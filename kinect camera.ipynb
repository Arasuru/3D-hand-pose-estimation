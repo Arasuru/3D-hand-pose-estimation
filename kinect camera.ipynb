{
 "cells": [
  {
   "cell_type": "code",
   "execution_count": 2,
   "id": "37789d49-2492-4391-af56-73314ad0cf01",
   "metadata": {},
   "outputs": [
    {
     "name": "stdout",
     "output_type": "stream",
     "text": [
      "Collecting pykinect2\n",
      "  Using cached pykinect2-0.1.0-py3-none-any.whl.metadata (570 bytes)\n",
      "Requirement already satisfied: numpy>=1.9.2 in c:\\users\\ravik\\anaconda3\\envs\\mpipeenv\\lib\\site-packages (from pykinect2) (1.26.4)\n",
      "Collecting comtypes>=1.1.1 (from pykinect2)\n",
      "  Using cached comtypes-1.4.9-py3-none-any.whl.metadata (7.1 kB)\n",
      "Using cached pykinect2-0.1.0-py3-none-any.whl (20 kB)\n",
      "Using cached comtypes-1.4.9-py3-none-any.whl (234 kB)\n",
      "Installing collected packages: comtypes, pykinect2\n",
      "Successfully installed comtypes-1.4.9 pykinect2-0.1.0\n"
     ]
    }
   ],
   "source": [
    "!pip install pykinect2"
   ]
  },
  {
   "cell_type": "code",
   "execution_count": 1,
   "id": "6f52c063-2def-417c-81bc-970e839030a0",
   "metadata": {},
   "outputs": [
    {
     "name": "stdout",
     "output_type": "stream",
     "text": [
      "Kinect not available.\n"
     ]
    }
   ],
   "source": [
    "from pykinect2 import PyKinectRuntime\n",
    "from pykinect2 import PyKinectV2\n",
    "\n",
    "kinect = PyKinectRuntime.PyKinectRuntime(PyKinectV2.FrameSourceTypes_Color)\n",
    "\n",
    "if kinect.has_new_color_frame():\n",
    "    print(\"Kinect is connected and ready!\")\n",
    "else:\n",
    "    print(\"Kinect not available.\")\n",
    "\n",
    "kinect.close()"
   ]
  },
  {
   "cell_type": "code",
   "execution_count": null,
   "id": "c5ecdb56-dd85-4e61-ad39-ba96d064ae69",
   "metadata": {},
   "outputs": [],
   "source": []
  }
 ],
 "metadata": {
  "kernelspec": {
   "display_name": "Python 3 (ipykernel)",
   "language": "python",
   "name": "python3"
  },
  "language_info": {
   "codemirror_mode": {
    "name": "ipython",
    "version": 3
   },
   "file_extension": ".py",
   "mimetype": "text/x-python",
   "name": "python",
   "nbconvert_exporter": "python",
   "pygments_lexer": "ipython3",
   "version": "3.9.20"
  }
 },
 "nbformat": 4,
 "nbformat_minor": 5
}
