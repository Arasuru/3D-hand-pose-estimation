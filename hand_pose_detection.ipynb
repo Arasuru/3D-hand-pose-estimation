{
 "cells": [
  {
   "cell_type": "code",
   "execution_count": 1,
   "id": "239a3e7d-196d-43f0-a2b2-c84ee88b95ca",
   "metadata": {},
   "outputs": [],
   "source": [
    "import mediapipe as mp\n",
    "import cv2\n",
    "import numpy as np\n",
    "import uuid\n",
    "import os\n",
    "import json\n",
    "import csv"
   ]
  },
  {
   "cell_type": "code",
   "execution_count": 2,
   "id": "a51c0734-095d-4e3d-b08d-40018cf0ad78",
   "metadata": {},
   "outputs": [],
   "source": [
    "mp_drawing = mp.solutions.drawing_utils\n",
    "mp_hands = mp.solutions.hands"
   ]
  },
  {
   "cell_type": "code",
   "execution_count": 3,
   "id": "6452c9ed-bd21-4bf7-a2e7-2e4330f15a49",
   "metadata": {},
   "outputs": [],
   "source": [
    "#variables for recording video\n",
    "recording = False\n",
    "out = None\n",
    "all_landmarks = []"
   ]
  },
  {
   "cell_type": "code",
   "execution_count": 4,
   "id": "6d24335c-f206-4b6e-b7c5-72d0f237289c",
   "metadata": {},
   "outputs": [],
   "source": [
    "#setting-up webcam and mediapipe overlay\n",
    "cap = cv2.VideoCapture(0)\n",
    "\n",
    "with mp_hands.Hands(min_detection_confidence=0.8, min_tracking_confidence=0.5,max_num_hands=1) as hands:\n",
    "    while cap.isOpened():\n",
    "        ret, frame = cap.read()\n",
    "        \n",
    "        image = cv2.cvtColor(frame, cv2.COLOR_BGR2RGB)  #cv2 reads BGR format, mediapipe uses RGB format, so convert\n",
    "        image.flags.writeable =False\n",
    "\n",
    "        frame_width, frame_height = frame.shape[1], frame.shape[0]\n",
    "        landmarks_3d = [] #to store the xyz coordinates of each joint\n",
    "        #mediapipe processing the image\n",
    "        results = hands.process(image)\n",
    "\n",
    "        # Create a blank frame with the same dimensions as the video frame\n",
    "        blank_frame = np.zeros_like(frame)\n",
    "        \n",
    "        image.flags.writeable=True\n",
    "        image = cv2.cvtColor(image, cv2.COLOR_RGB2BGR)\n",
    "\n",
    "        if results.multi_hand_landmarks: #gives the coordinates of hand if a hand is detected\n",
    "            for num, hand in enumerate(results.multi_hand_landmarks):\n",
    "                mp_drawing.draw_landmarks(blank_frame, hand, mp_hands.HAND_CONNECTIONS,  #use image instead of blank_frame to save actual video\n",
    "                                         mp_drawing.DrawingSpec(color=(255, 0, 21), thickness=2, circle_radius=2), #for joints and dots\n",
    "                                         mp_drawing.DrawingSpec(color=(16, 255, 0), thickness=2, circle_radius=2)) #for connections and lines\n",
    "                \n",
    "                #this is to store the x,y,z co-ordinates\n",
    "                for lm in hand.landmark:\n",
    "                    x = int(lm.x * frame_width)\n",
    "                    y = int(lm.y * frame_height)\n",
    "                    z = lm.z  # Depth can be scaled if needed\n",
    "                    landmarks_3d.append((x, y, z))\n",
    "\n",
    "                if recording and landmarks_3d:\n",
    "                    all_landmarks.append(landmarks_3d)  # Append current frame landmarks\n",
    "                    \n",
    "        cv2.imshow('Hand Tracking', blank_frame) #use image instead of blank_frame to save actual video\n",
    "\n",
    "        key = cv2.waitKey(1) & 0xFF\n",
    "\n",
    "        if key == ord('r'):  # Toggle recording on 'r' key press\n",
    "            if not recording:\n",
    "                # Start recording\n",
    "                recording = True\n",
    "                filename = f\"{uuid.uuid4()}.mp4\"\n",
    "                frame_width = int(cap.get(cv2.CAP_PROP_FRAME_WIDTH))\n",
    "                frame_height = int(cap.get(cv2.CAP_PROP_FRAME_HEIGHT))\n",
    "                fps = int(cap.get(cv2.CAP_PROP_FPS)) or 30\n",
    "                fourcc = cv2.VideoWriter_fourcc(*'mp4v')\n",
    "                out = cv2.VideoWriter(os.path.join(\"mediapipe videos\",filename), fourcc, fps, (frame_width, frame_height))\n",
    "                print(f\"Recording started: {filename}\")\n",
    "            else:\n",
    "                # Stop recording\n",
    "                recording = False\n",
    "                datafile = filename.replace(\".mp4\", \".csv\")\n",
    "                with open(os.path.join(\"coordinates data\", datafile), mode='w', newline='') as f:\n",
    "                    csv_writer = csv.writer(f)\n",
    "                    header = [f'joint_{i}_{axis}' for i in range(21) for axis in ['x', 'y', 'z']]\n",
    "                    csv_writer.writerow(header)  # Write CSV header\n",
    "                    for frame_landmarks in all_landmarks:\n",
    "                        row = [value for joint in frame_landmarks for value in joint]\n",
    "                        csv_writer.writerow(row)\n",
    "                all_landmarks = []       #empty the current data for recording \n",
    "                out.release()\n",
    "                out = None\n",
    "                print(\"Recording stopped\")\n",
    "\n",
    "        if recording and out is not None:\n",
    "            out.write(blank_frame) #use image instead of blank_frame to save actual video\n",
    "        if key == ord('q'):\n",
    "             if recording:\n",
    "                out.release() #to ensure video is saved properly\n",
    "             break\n",
    "\n",
    "cap.release()\n",
    "if out is not None:\n",
    "    out.release()\n",
    "cv2.destroyAllWindows()"
   ]
  },
  {
   "cell_type": "code",
   "execution_count": 1,
   "id": "07a4c878-b101-4332-87c0-0f3c2f60bb35",
   "metadata": {},
   "outputs": [
    {
     "name": "stdout",
     "output_type": "stream",
     "text": [
      "Collecting jupytext\n",
      "  Downloading jupytext-1.16.6-py3-none-any.whl.metadata (13 kB)\n",
      "Collecting markdown-it-py>=1.0 (from jupytext)\n",
      "  Using cached markdown_it_py-3.0.0-py3-none-any.whl.metadata (6.9 kB)\n",
      "Collecting mdit-py-plugins (from jupytext)\n",
      "  Downloading mdit_py_plugins-0.4.2-py3-none-any.whl.metadata (2.8 kB)\n",
      "Requirement already satisfied: nbformat in c:\\users\\ravik\\anaconda3\\envs\\mpipeenv\\lib\\site-packages (from jupytext) (5.10.4)\n",
      "Requirement already satisfied: packaging in c:\\users\\ravik\\anaconda3\\envs\\mpipeenv\\lib\\site-packages (from jupytext) (24.1)\n",
      "Requirement already satisfied: pyyaml in c:\\users\\ravik\\anaconda3\\envs\\mpipeenv\\lib\\site-packages (from jupytext) (6.0.2)\n",
      "Requirement already satisfied: tomli in c:\\users\\ravik\\anaconda3\\envs\\mpipeenv\\lib\\site-packages (from jupytext) (2.0.1)\n",
      "Collecting mdurl~=0.1 (from markdown-it-py>=1.0->jupytext)\n",
      "  Using cached mdurl-0.1.2-py3-none-any.whl.metadata (1.6 kB)\n",
      "Requirement already satisfied: fastjsonschema>=2.15 in c:\\users\\ravik\\anaconda3\\envs\\mpipeenv\\lib\\site-packages (from nbformat->jupytext) (2.20.0)\n",
      "Requirement already satisfied: jsonschema>=2.6 in c:\\users\\ravik\\anaconda3\\envs\\mpipeenv\\lib\\site-packages (from nbformat->jupytext) (4.23.0)\n",
      "Requirement already satisfied: jupyter-core!=5.0.*,>=4.12 in c:\\users\\ravik\\anaconda3\\envs\\mpipeenv\\lib\\site-packages (from nbformat->jupytext) (5.7.2)\n",
      "Requirement already satisfied: traitlets>=5.1 in c:\\users\\ravik\\anaconda3\\envs\\mpipeenv\\lib\\site-packages (from nbformat->jupytext) (5.14.3)\n",
      "Requirement already satisfied: attrs>=22.2.0 in c:\\users\\ravik\\anaconda3\\envs\\mpipeenv\\lib\\site-packages (from jsonschema>=2.6->nbformat->jupytext) (24.2.0)\n",
      "Requirement already satisfied: jsonschema-specifications>=2023.03.6 in c:\\users\\ravik\\anaconda3\\envs\\mpipeenv\\lib\\site-packages (from jsonschema>=2.6->nbformat->jupytext) (2023.7.1)\n",
      "Requirement already satisfied: referencing>=0.28.4 in c:\\users\\ravik\\anaconda3\\envs\\mpipeenv\\lib\\site-packages (from jsonschema>=2.6->nbformat->jupytext) (0.30.2)\n",
      "Requirement already satisfied: rpds-py>=0.7.1 in c:\\users\\ravik\\anaconda3\\envs\\mpipeenv\\lib\\site-packages (from jsonschema>=2.6->nbformat->jupytext) (0.10.6)\n",
      "Requirement already satisfied: platformdirs>=2.5 in c:\\users\\ravik\\anaconda3\\envs\\mpipeenv\\lib\\site-packages (from jupyter-core!=5.0.*,>=4.12->nbformat->jupytext) (3.10.0)\n",
      "Requirement already satisfied: pywin32>=300 in c:\\users\\ravik\\anaconda3\\envs\\mpipeenv\\lib\\site-packages (from jupyter-core!=5.0.*,>=4.12->nbformat->jupytext) (305.1)\n",
      "Downloading jupytext-1.16.6-py3-none-any.whl (154 kB)\n",
      "Using cached markdown_it_py-3.0.0-py3-none-any.whl (87 kB)\n",
      "Downloading mdit_py_plugins-0.4.2-py3-none-any.whl (55 kB)\n",
      "Using cached mdurl-0.1.2-py3-none-any.whl (10.0 kB)\n",
      "Installing collected packages: mdurl, markdown-it-py, mdit-py-plugins, jupytext\n",
      "Successfully installed jupytext-1.16.6 markdown-it-py-3.0.0 mdit-py-plugins-0.4.2 mdurl-0.1.2\n"
     ]
    }
   ],
   "source": [
    "!pip install jupytext"
   ]
  }
 ],
 "metadata": {
  "kernelspec": {
   "display_name": "Python 3 (ipykernel)",
   "language": "python",
   "name": "python3"
  },
  "language_info": {
   "codemirror_mode": {
    "name": "ipython",
    "version": 3
   },
   "file_extension": ".py",
   "mimetype": "text/x-python",
   "name": "python",
   "nbconvert_exporter": "python",
   "pygments_lexer": "ipython3",
   "version": "3.9.20"
  }
 },
 "nbformat": 4,
 "nbformat_minor": 5
}
